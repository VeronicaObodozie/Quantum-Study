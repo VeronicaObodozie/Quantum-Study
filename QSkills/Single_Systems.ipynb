{
  "nbformat": 4,
  "nbformat_minor": 0,
  "metadata": {
    "colab": {
      "provenance": [],
      "authorship_tag": "ABX9TyNX5nQp/Urz8awdY3wtr3iz",
      "include_colab_link": true
    },
    "kernelspec": {
      "name": "python3",
      "display_name": "Python 3"
    },
    "language_info": {
      "name": "python"
    }
  },
  "cells": [
    {
      "cell_type": "markdown",
      "metadata": {
        "id": "view-in-github",
        "colab_type": "text"
      },
      "source": [
        "<a href=\"https://colab.research.google.com/github/VeronicaObodozie/Quantum-Study/blob/main/Single_Systems.ipynb\" target=\"_parent\"><img src=\"https://colab.research.google.com/assets/colab-badge.svg\" alt=\"Open In Colab\"/></a>"
      ]
    },
    {
      "cell_type": "markdown",
      "source": [
        "Defining and displaying state vectors\n",
        "\n",
        "Qiskit's Statevector\n",
        "class provides functionality for defining and manipulating quantum state vectors. The following code cell imports the class and defines a few vectors using it. (Note that we need the function from the library to compute the square roots for the vector .)"
      ],
      "metadata": {
        "id": "WISD-DyO00AA"
      }
    },
    {
      "cell_type": "code",
      "execution_count": null,
      "metadata": {
        "id": "EFXVpC4l0C5t"
      },
      "outputs": [],
      "source": [
        "from qiskit.quantum_info import Statevector\n",
        "from numpy import sqrt\n",
        "\n",
        "u = Statevector([1 / sqrt(2), 1 / sqrt(2)])\n",
        "v = Statevector([(1 + 2.0j) / 3, -2 / 3])\n",
        "w = Statevector([1 / 3, 2 / 3])\n",
        "\n",
        "print(\"State vectors u, v, and w have been defined.\")"
      ]
    },
    {
      "cell_type": "markdown",
      "source": [
        "is_valid method, which checks to see if a given vector is a valid quantum state vector (i.e., that it has Euclidean norm equal to 1):"
      ],
      "metadata": {
        "id": "sh9f2WOi1L0x"
      }
    },
    {
      "cell_type": "code",
      "source": [
        "display(u.draw(\"latex\"))\n",
        "display(v.draw(\"text\"))\n",
        "\n",
        "display(u.is_valid())\n",
        "display(w.is_valid())"
      ],
      "metadata": {
        "id": "rCePm7j81HVH"
      },
      "execution_count": null,
      "outputs": []
    },
    {
      "cell_type": "markdown",
      "source": [
        "## Simulating measurements\n",
        "1. Create a vector\n",
        "2. Measure\n",
        "\n",
        "Sample counts method that allows for the simulation of any number of measurements on the system."
      ],
      "metadata": {
        "id": "Ls6BtLa92DPq"
      }
    },
    {
      "cell_type": "code",
      "source": [
        "# Create a vector\n",
        "\n",
        "v = Statevector([(1 + 2.0j) / 3, -2 / 3])\n",
        "v.draw(\"latex\")\n",
        "\n",
        "#measure\n",
        "v.measure()\n",
        "\n",
        "# Sample Counts method\n",
        "from qiskit.visualization import plot_histogram\n",
        "\n",
        "statistics = v.sample_counts(1000)\n",
        "display(statistics)\n",
        "plot_histogram(statistics)\n"
      ],
      "metadata": {
        "id": "749B5m_B2Kxp"
      },
      "execution_count": null,
      "outputs": []
    },
    {
      "cell_type": "markdown",
      "source": [
        "## Quantum Unitary Operations"
      ],
      "metadata": {
        "id": "NezxfCcw3K_z"
      }
    },
    {
      "cell_type": "code",
      "source": [
        "from qiskit.quantum_info import Operator\n",
        "\n",
        "# Define operations\n",
        "\n",
        "X = Operator([[0, 1], [1, 0]])\n",
        "Y = Operator([[0, -1.0j], [1.0j, 0]])\n",
        "Z = Operator([[1, 0], [0, -1]])\n",
        "H = Operator([[1 / sqrt(2), 1 / sqrt(2)], [1 / sqrt(2), -1 / sqrt(2)]])\n",
        "S = Operator([[1, 0], [0, 1.0j]])\n",
        "T = Operator([[1, 0], [0, (1 + 1.0j) / sqrt(2)]])\n",
        "\n",
        "v = Statevector([1, 0])\n",
        "\n",
        "v = v.evolve(H)\n",
        "v = v.evolve(T)\n",
        "v = v.evolve(H)\n",
        "v = v.evolve(T)\n",
        "v = v.evolve(Z)\n",
        "\n",
        "v.draw(\"text\")"
      ],
      "metadata": {
        "id": "Bsyuf_OI3O5g"
      },
      "execution_count": null,
      "outputs": []
    },
    {
      "cell_type": "markdown",
      "source": [
        "## Circuits\n"
      ],
      "metadata": {
        "id": "J2x1onwy3sH5"
      }
    },
    {
      "cell_type": "code",
      "source": [
        "from qiskit import QuantumCircuit\n",
        "\n",
        "circuit = QuantumCircuit(1)\n",
        "\n",
        "circuit.h(0)\n",
        "circuit.t(0)\n",
        "circuit.h(0)\n",
        "circuit.t(0)\n",
        "circuit.z(0)\n",
        "\n",
        "circuit.draw()\n",
        "\n",
        "ket0 = Statevector([1, 0])\n",
        "v = ket0.evolve(circuit)\n",
        "v.draw(\"text\")"
      ],
      "metadata": {
        "id": "_LPEarUe3vTs"
      },
      "execution_count": null,
      "outputs": []
    }
  ]
}
