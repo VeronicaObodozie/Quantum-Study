{
  "nbformat": 4,
  "nbformat_minor": 0,
  "metadata": {
    "colab": {
      "provenance": [],
      "authorship_tag": "ABX9TyNck2bZ7pM+cYRmR+ep19XB"
    },
    "kernelspec": {
      "name": "python3",
      "display_name": "Python 3"
    },
    "language_info": {
      "name": "python"
    }
  },
  "cells": [
    {
      "cell_type": "markdown",
      "source": [
        "# QSkit Implementation\n",
        "This follows the second lecture on Multisystems of the QSkills lst\n",
        "\n",
        "Note the ^ operator also gives the tensor produt."
      ],
      "metadata": {
        "id": "Ds_70L5atpae"
      }
    },
    {
      "cell_type": "code",
      "execution_count": null,
      "metadata": {
        "id": "01CAj2MQsvgM"
      },
      "outputs": [],
      "source": [
        "from qiskit import __version__\n",
        "print(__version__)\n",
        "\n",
        "from qiskit.quantum_info import Statevector, Operator\n",
        "from numpy import sqrt\n",
        "\n",
        "# Create a state vector and find the tensor products of it\n",
        "zero = Statevector.from_label(\"0\")\n",
        "one = Statevector.from_label(\"1\")\n",
        "psi = zero.tensor(one)\n",
        "display(psi.draw(\"latex\"))\n",
        "\n",
        "plus = Statevector.from_label(\"+\")\n",
        "minus_i = Statevector.from_label(\"l\")\n",
        "phi = plus.tensor(minus_i)\n",
        "display(phi.draw(\"latex\"))\n",
        "\n",
        "display((plus ^ minus_i).draw(\"latex\"))"
      ]
    },
    {
      "cell_type": "markdown",
      "source": [
        "Similarly, the operator classes have tenssor labels"
      ],
      "metadata": {
        "id": "8M9rFk88vEdT"
      }
    },
    {
      "cell_type": "code",
      "source": [
        "H = Operator.from_label(\"H\")\n",
        "I = Operator.from_label(\"I\")\n",
        "X = Operator.from_label(\"X\")\n",
        "display(H.tensor(I).draw(\"latex\"))\n",
        "display(H.tensor(I).tensor(X).draw(\"latex\"))\n",
        "\n",
        "display((H ^ I ^ X).draw(\"latex\"))"
      ],
      "metadata": {
        "id": "yVQIK_cbvJMJ"
      },
      "execution_count": null,
      "outputs": []
    },
    {
      "cell_type": "code",
      "source": [
        "# Performing operations on compound state\n",
        "display(phi.evolve(H ^ I).draw(\"latex\"))\n",
        "\n",
        "# Define CX operator and find the tensor product with Phi |+> tensor |0>\n",
        "CX = Operator(\n",
        "    [[1, 0, 0, 0],\n",
        "     [0, 1, 0, 0],\n",
        "     [0, 0, 0, 1],\n",
        "     [0, 0, 1, 0]])\n",
        "psi = plus.tensor(zero)\n",
        "display(psi.evolve(CX).draw(\"latex\"))"
      ],
      "metadata": {
        "id": "4nnoRic6vg-S"
      },
      "execution_count": null,
      "outputs": []
    },
    {
      "cell_type": "markdown",
      "source": [
        "## Partial Measurement"
      ],
      "metadata": {
        "id": "SHmKf55BwMmF"
      }
    },
    {
      "cell_type": "code",
      "source": [
        "w = Statevector([0, 1, 1, 0, 1, 0, 0, 0] / sqrt(3))\n",
        "display(w.draw(\"latex\"))\n",
        "\n",
        "result, state = w.measure([0])\n",
        "print(f\"Measured: {result}\\nState after measurement:\")\n",
        "display(state.draw(\"latex\"))\n",
        "\n",
        "result, state = w.measure([0,1])\n",
        "print(f\"Measured: {result}\\nState after measurement:\")\n",
        "display(state.draw(\"latex\"))"
      ],
      "metadata": {
        "id": "O_C7yU7bwP46"
      },
      "execution_count": null,
      "outputs": []
    }
  ]
}