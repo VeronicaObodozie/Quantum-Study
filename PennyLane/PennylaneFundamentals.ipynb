{
 "cells": [
  {
   "cell_type": "markdown",
   "id": "86d46f25",
   "metadata": {},
   "source": [
    "# Circuits and QNodes"
   ]
  },
  {
   "cell_type": "code",
   "execution_count": null,
   "id": "1ec9d75e",
   "metadata": {
    "vscode": {
     "languageId": "plaintext"
    }
   },
   "outputs": [],
   "source": [
    "import pennylane as qml\n",
    "from pennylane import numpy as np"
   ]
  },
  {
   "cell_type": "code",
   "execution_count": null,
   "id": "6952fb94",
   "metadata": {
    "vscode": {
     "languageId": "plaintext"
    }
   },
   "outputs": [],
   "source": [
    "dev = qml.device(\"default.qubit\", wires = 2)\n",
    "\n",
    "@qml.qnode(dev)\n",
    "def my_first_quantum_function(theta):\n",
    "    qml.RX(theta, wires = 0)\n",
    "    qml.PauliY(wires = 1)\n",
    "    qml.Hadamard(wires = 0)\n",
    "    qml.Hadamard(wires = 1)\n",
    "\n",
    "    return qml.state()\n",
    "\n",
    "print(my_first_quantum_function(np.pi/4))"
   ]
  },
  {
   "cell_type": "code",
   "execution_count": null,
   "id": "03868a84",
   "metadata": {
    "vscode": {
     "languageId": "plaintext"
    }
   },
   "outputs": [],
   "source": [
    "def subcircuit_1(angle):\n",
    "\n",
    "    qml.RX(angle, wires = 0)\n",
    "    qml.PauliY(wires = 1)\n",
    "\n",
    "def subcircuit_2():\n",
    "\n",
    "    qml.Hadamard(wires = 0)\n",
    "    qml.CNOT(wires = [0,1])\n",
    "\n",
    "def full_circuit(theta, phi):\n",
    "\n",
    "    subcircuit_1(theta)\n",
    "    subcircuit_2()\n",
    "    subcircuit_1(phi)\n",
    "\n",
    "theta = 0.3\n",
    "phi = 0.2 \n",
    "\n",
    "print(qml.draw(full_circuit)(theta,phi))"
   ]
  }
 ],
 "metadata": {
  "language_info": {
   "name": "python"
  }
 },
 "nbformat": 4,
 "nbformat_minor": 5
}
