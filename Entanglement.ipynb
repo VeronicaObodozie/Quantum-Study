{
  "nbformat": 4,
  "nbformat_minor": 0,
  "metadata": {
    "colab": {
      "provenance": [],
      "authorship_tag": "ABX9TyMvPvE0JHM6tCLsOWZQxzNp"
    },
    "kernelspec": {
      "name": "python3",
      "display_name": "Python 3"
    },
    "language_info": {
      "name": "python"
    }
  },
  "cells": [
    {
      "cell_type": "markdown",
      "source": [
        "This is the Entanglement"
      ],
      "metadata": {
        "id": "wx1KgMZn2wpp"
      }
    },
    {
      "cell_type": "markdown",
      "source": [
        "Quantum Teleportation"
      ],
      "metadata": {
        "id": "sae06SBAMgIB"
      }
    },
    {
      "cell_type": "code",
      "execution_count": null,
      "metadata": {
        "id": "tXfxN-fmj_MO"
      },
      "outputs": [],
      "source": [
        "from qiskit import __version__\n",
        "print(__version__)\n",
        "\n",
        "from qiskit import QuantumCircuit, QuantumRegister, ClassicalRegister\n",
        "from qiskit_aer import AerSimulator\n",
        "from qiskit.visualization import plot_histogram, array_to_latex\n",
        "from qiskit.result import marginal_distribution\n",
        "from qiskit.circuit.library import UGate\n",
        "from numpy import pi, random"
      ]
    },
    {
      "cell_type": "code",
      "source": [
        "# Protocol implementation\n",
        "qubit = QuantumRegister(1, \"Q\")\n",
        "ebit0 = QuantumRegister(1, \"A\")\n",
        "ebit1 = QuantumRegister(1, \"B\")\n",
        "a = ClassicalRegister(1, \"a\")\n",
        "b = ClassicalRegister(1, \"b\")\n",
        "\n",
        "protocol = QuantumCircuit(qubit, ebit0, ebit1, a, b)\n",
        "\n",
        "# Prepare ebit used for teleportation\n",
        "protocol.h(ebit0)\n",
        "protocol.cx(ebit0, ebit1)\n",
        "protocol.barrier()\n",
        "\n",
        "# Alice's operations\n",
        "protocol.cx(qubit, ebit0)\n",
        "protocol.h(qubit)\n",
        "protocol.barrier()\n",
        "\n",
        "# Alice measures and sends classical bits to Bob\n",
        "protocol.measure(ebit0, a)\n",
        "protocol.measure(qubit, b)\n",
        "protocol.barrier()\n",
        "\n",
        "# Bob uses the classical bits to conditionally apply gates\n",
        "with protocol.if_test((a, 1)):\n",
        "    protocol.x(ebit1)\n",
        "with protocol.if_test((b, 1)):\n",
        "    protocol.z(ebit1)\n",
        "\n",
        "display(protocol.draw(output=\"mpl\"))"
      ],
      "metadata": {
        "id": "3RvMERGEMpRF"
      },
      "execution_count": null,
      "outputs": []
    },
    {
      "cell_type": "code",
      "source": [
        "random_gate = UGate(\n",
        "    theta=random.random() * 2 * pi,\n",
        "    phi=random.random() * 2 * pi,\n",
        "    lam=random.random() * 2 * pi\n",
        ")\n",
        "\n",
        "display(array_to_latex(random_gate.to_matrix()))"
      ],
      "metadata": {
        "id": "TTU2O8J3NGbp"
      },
      "execution_count": null,
      "outputs": []
    },
    {
      "cell_type": "code",
      "source": [
        "# Create a new circuit including the same bits and qubits used in the\n",
        "# teleportation protocol.\n",
        "\n",
        "test = QuantumCircuit(qubit, ebit0, ebit1, a, b)\n",
        "\n",
        "# Start with the randomly selected gate on Q\n",
        "\n",
        "test.append(random_gate, qubit)\n",
        "test.barrier()\n",
        "\n",
        "# Append the entire teleportation protocol from above.\n",
        "\n",
        "test = test.compose(protocol)\n",
        "test.barrier()\n",
        "\n",
        "# Finally, apply the inverse of the random unitary to B and measure.\n",
        "\n",
        "test.append(random_gate.inverse(), ebit1)\n",
        "result = ClassicalRegister(1, \"Result\")\n",
        "test.add_register(result)\n",
        "test.measure(ebit1, result)\n",
        "\n",
        "display(test.draw(output=\"mpl\"))\n",
        "\n",
        "# Plot outputs\n",
        "result = AerSimulator().run(test).result()\n",
        "statistics = result.get_counts()\n",
        "display(plot_histogram(statistics))\n",
        "\n",
        "# focus on test result\n",
        "filtered_statistics = marginal_distribution(statistics, [2])\n",
        "display(plot_histogram(filtered_statistics))"
      ],
      "metadata": {
        "id": "iywo-E0cNHiR"
      },
      "execution_count": null,
      "outputs": []
    },
    {
      "cell_type": "markdown",
      "source": [
        "## Superdense"
      ],
      "metadata": {
        "id": "h8Y05n-xN_TM"
      }
    },
    {
      "cell_type": "code",
      "source": [
        "c = \"1\"\n",
        "d = \"0\"\n",
        "\n",
        "protocol = QuantumCircuit(2)\n",
        "\n",
        "# Prepare ebit used for superdense coding\n",
        "protocol.h(0)\n",
        "protocol.cx(0, 1)\n",
        "protocol.barrier()\n",
        "\n",
        "# Alice's operations\n",
        "if d == \"1\":\n",
        "    protocol.z(0)\n",
        "if c == \"1\":\n",
        "    protocol.x(0)\n",
        "protocol.barrier()\n",
        "\n",
        "# Bob's actions\n",
        "protocol.cx(0, 1)\n",
        "protocol.h(0)\n",
        "protocol.measure_all()\n",
        "\n",
        "display(protocol.draw(output=\"mpl\"))\n",
        "\n",
        "result = AerSimulator().run(protocol).result()\n",
        "statistics = result.get_counts()\n",
        "\n",
        "for outcome, frequency in statistics.items():\n",
        "    print(f\"Measured {outcome} with frequency {frequency}\")"
      ],
      "metadata": {
        "id": "j4jhhO_oNKpH"
      },
      "execution_count": null,
      "outputs": []
    },
    {
      "cell_type": "markdown",
      "source": [
        "Adding an extra qubit"
      ],
      "metadata": {
        "id": "iRo8w525OjEo"
      }
    },
    {
      "cell_type": "code",
      "source": [
        "display(plot_histogram(statistics))\n",
        "\n",
        "rbg = QuantumRegister(1, \"coin\")\n",
        "ebit0 = QuantumRegister(1, \"A\")\n",
        "ebit1 = QuantumRegister(1, \"B\")\n",
        "\n",
        "Alice_c = ClassicalRegister(1, \"Alice c\")\n",
        "Alice_d = ClassicalRegister(1, \"Alice d\")\n",
        "\n",
        "test = QuantumCircuit(rbg, ebit0, ebit1, Alice_d, Alice_c)\n",
        "\n",
        "# Initialize the ebit\n",
        "test.h(ebit0)\n",
        "test.cx(ebit0, ebit1)\n",
        "test.barrier()\n",
        "\n",
        "# Use the 'coin' qubit twice to generate Alice's bits c and d.\n",
        "test.h(rbg)\n",
        "test.measure(rbg, Alice_c)\n",
        "test.h(rbg)\n",
        "test.measure(rbg, Alice_d)\n",
        "test.barrier()\n",
        "\n",
        "# Now the protocol runs, starting with Alice's actions, which depend\n",
        "# on her bits.\n",
        "with test.if_test((Alice_d, 1), label=\"Z\"):\n",
        "    test.z(ebit0)\n",
        "with test.if_test((Alice_c, 1), label=\"X\"):\n",
        "    test.x(ebit0)\n",
        "test.barrier()\n",
        "\n",
        "# Bob's actions\n",
        "test.cx(ebit0, ebit1)\n",
        "test.h(ebit0)\n",
        "test.barrier()\n",
        "\n",
        "Bob_c = ClassicalRegister(1, \"Bob c\")\n",
        "Bob_d = ClassicalRegister(1, \"Bob d\")\n",
        "test.add_register(Bob_d)\n",
        "test.add_register(Bob_c)\n",
        "test.measure(ebit0, Bob_d)\n",
        "test.measure(ebit1, Bob_c)\n",
        "\n",
        "display(test.draw(output=\"mpl\"))"
      ],
      "metadata": {
        "id": "M9EVPbaMOWwg"
      },
      "execution_count": null,
      "outputs": []
    },
    {
      "cell_type": "markdown",
      "source": [
        "### CHSH Game"
      ],
      "metadata": {
        "id": "ACi47roFQAfZ"
      }
    },
    {
      "cell_type": "code",
      "source": [
        "def chsh_game(strategy):\n",
        "    # This function runs the CHSH game, using the strategy (a function\n",
        "    # from two bits to two bits), returning 1 for a win and 0 for a loss.\n",
        "\n",
        "    # Choose x and y randomly\n",
        "    x, y = random.randint(0, 2), random.randint(0, 2)\n",
        "\n",
        "    # Use the strategy to determine a and b\n",
        "    a, b = strategy(x, y)\n",
        "\n",
        "    # Decide if the strategy wins or loses\n",
        "    if (a != b) == (x & y):\n",
        "        return 1  # Win\n",
        "    return 0  # Lose\n",
        "\n",
        "def chsh_circuit(x, y):\n",
        "    # This function creates a `QuantumCircuit` implementing the quantum\n",
        "    # strategy described above (including the e-bit preparation).\n",
        "\n",
        "    qc = QuantumCircuit(2, 2)\n",
        "\n",
        "    # Prepare an e-bit\n",
        "    qc.h(0)\n",
        "    qc.cx(0, 1)\n",
        "    qc.barrier()\n",
        "\n",
        "    # Alice's actions\n",
        "    if x == 0:\n",
        "        qc.ry(0, 0)\n",
        "    else:\n",
        "        qc.ry(-pi / 2, 0)\n",
        "    qc.measure(0, 0)\n",
        "\n",
        "    # Bob's actions\n",
        "    if y == 0:\n",
        "        qc.ry(-pi / 4, 1)\n",
        "    else:\n",
        "        qc.ry(pi / 4, 1)\n",
        "    qc.measure(1, 1)\n",
        "\n",
        "    return qc\n",
        "\n",
        "# Draw the four possible circuits\n",
        "\n",
        "print(\"(x,y) = (0,0)\")\n",
        "display(chsh_circuit(0, 0).draw(output=\"mpl\"))\n",
        "\n",
        "print(\"(x,y) = (0,1)\")\n",
        "display(chsh_circuit(0, 1).draw(output=\"mpl\"))\n",
        "\n",
        "print(\"(x,y) = (1,0)\")\n",
        "display(chsh_circuit(1, 0).draw(output=\"mpl\"))\n",
        "\n",
        "print(\"(x,y) = (1,1)\")\n",
        "display(chsh_circuit(1, 1).draw(output=\"mpl\"))"
      ],
      "metadata": {
        "id": "2QbIAsH3QDqY"
      },
      "execution_count": null,
      "outputs": []
    }
  ]
}