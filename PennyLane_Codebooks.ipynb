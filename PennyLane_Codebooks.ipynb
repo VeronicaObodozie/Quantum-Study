{
  "nbformat": 4,
  "nbformat_minor": 0,
  "metadata": {
    "colab": {
      "provenance": [],
      "authorship_tag": "ABX9TyMVdzVTSL/XuqfKlc0MzfWg"
    },
    "kernelspec": {
      "name": "python3",
      "display_name": "Python 3"
    },
    "language_info": {
      "name": "python"
    }
  },
  "cells": [
    {
      "cell_type": "markdown",
      "source": [],
      "metadata": {
        "id": "3-GAHAAn8hcs"
      }
    },
    {
      "cell_type": "markdown",
      "source": [
        "## Simple Quantum Algorithm\n",
        "You may not have realized it, but you now have all the ingredients to write a very simple quantum simulator that can simulate the outcome of running quantum algorithms on a single qubit! Let's put everything together.\n",
        "\n",
        "Use the functions below to simulate a quantum algorithm that does the following:\n",
        "\n",
        "    Initialize a qubit in state\n",
        "\n",
        "    Apply the provided operation U\n",
        "    Simulate measuring the output state 100 times\n",
        "\n",
        "You'll have to complete a function for initialization, but we've provided functions for the other two."
      ],
      "metadata": {
        "id": "lGdVwBX08rkw"
      }
    },
    {
      "cell_type": "code",
      "source": [
        "U = np.array([[1, 1], [1, -1]]) / np.sqrt(2)\n",
        "\n",
        "\n",
        "def initialize_state():\n",
        "    \"\"\"Prepare a qubit in state |0>.\n",
        "\n",
        "    Returns:\n",
        "        np.array[float]: the vector representation of state |0>.\n",
        "    \"\"\"\n",
        "\n",
        "    ##################\n",
        "    # YOUR CODE HERE #\n",
        "    ##################\n",
        "\n",
        "    # PREPARE THE STATE |0>\n",
        "    return np.array([1, 0])\n",
        "    pass\n",
        "\n",
        "\n",
        "def apply_u(state):\n",
        "    \"\"\"Apply a quantum operation.\"\"\"\n",
        "    return np.dot(U, state)\n",
        "\n",
        "\n",
        "def measure_state(state, num_meas):\n",
        "    \"\"\"Measure a quantum state num_meas times.\"\"\"\n",
        "    p_alpha = np.abs(state[0]) ** 2\n",
        "    p_beta = np.abs(state[1]) ** 2\n",
        "    meas_outcome = np.random.choice([0, 1], p=[p_alpha, p_beta], size=num_meas)\n",
        "    return meas_outcome\n",
        "\n",
        "\n",
        "def quantum_algorithm():\n",
        "    \"\"\"Use the functions above to implement the quantum algorithm described above.\n",
        "\n",
        "    Try and do so using three lines of code or less!\n",
        "\n",
        "    Returns:\n",
        "        np.array[int]: the measurement results after running the algorithm 100 times\n",
        "    \"\"\"\n",
        "\n",
        "    ##################\n",
        "    # YOUR CODE HERE #\n",
        "    ##################\n",
        "\n",
        "    # PREPARE THE STATE, APPLY U, THEN TAKE 100 MEASUREMENT SAMPLES\n",
        "    state = apply_u(initialize_state())\n",
        "    return measure_state(state, 100)\n",
        "    pass\n"
      ],
      "metadata": {
        "id": "QAGpipRl83Sf"
      },
      "execution_count": null,
      "outputs": []
    },
    {
      "cell_type": "markdown",
      "source": [
        "Defining a Quantum circuit in PennyLane"
      ],
      "metadata": {
        "id": "qgaL0FoS8mSh"
      }
    },
    {
      "cell_type": "code",
      "execution_count": null,
      "metadata": {
        "id": "UttCjFh28gEl"
      },
      "outputs": [],
      "source": [
        "import pennylane as qml\n",
        "\n",
        "def my_quantum_function(params):\n",
        "\n",
        "    # Single-qubit operations with no input parameters\n",
        "    qml.Gate1(wires=0)\n",
        "    qml.Gate2(wires=1)\n",
        "\n",
        "    # A single-qubit operation with an input parameter\n",
        "    qml.Gate3(params[0], wires=0)\n",
        "\n",
        "    # Two-qubit operation with no input parameter on wires 0 and 1\n",
        "    qml.TwoQubitGate1(wires=[0, 1])\n",
        "\n",
        "    # Two-qubit operation with an input parameter on wires 0 and 1\n",
        "    qml.TwoQubitGate2(params[1], wires=[0, 1])\n",
        "\n",
        "    # Return the result of a measurement\n",
        "    return qml.Measurement(wires=[0, 1])"
      ]
    },
    {
      "cell_type": "code",
      "source": [
        "#defining a device\n",
        "dev = qml.device('device.name', wires=num_qubits)\n",
        "\n",
        "# Default device is a simulator\n",
        "dev = qml.device('default.qubit', wires=[\"wire_a\", \"wire_b\"])"
      ],
      "metadata": {
        "id": "dCLaaYrnB56i"
      },
      "execution_count": null,
      "outputs": []
    },
    {
      "cell_type": "markdown",
      "source": [
        "There are 2 ways of defining a qnode.\n",
        "1. Using the QNde  function\n",
        "2. Adding a call to the quantum circuit function"
      ],
      "metadata": {
        "id": "4FOoqto4C5KY"
      }
    },
    {
      "cell_type": "code",
      "source": [
        "# First method\n",
        "dev = qml.device('default.qubit, wires = [0,1])\n",
        "\n",
        "def my_first_circuit(theta):\n",
        "\n",
        "    qml.Hadamard(wires = 0)\n",
        "    qml.CNOT(wires = [0,1])\n",
        "    qml.RZ(theta, wires = 0)\n",
        "\n",
        "    return qml.probs(wires = [0,1])\n",
        "\n",
        "my_first_QNode = qml.QNode(my_first_circuit, dev)\n",
        "\n",
        "# Second\n"
      ],
      "metadata": {
        "id": "A1DeZwUuC4XI"
      },
      "execution_count": null,
      "outputs": []
    },
    {
      "cell_type": "code",
      "source": [
        "dev = qml.device('default.qubit, wires = [0,1])\n",
        "\n",
        "@qml.qnode(dev)\n",
        "def my_first_circuit(theta):\n",
        "\n",
        "    qml.Hadamard(wires = 0)\n",
        "    qml.CNOT(wires = [0,1])\n",
        "    qml.RZ(theta, wires = 0)\n",
        "\n",
        "    return qml.probs(wires = [0,1])"
      ],
      "metadata": {
        "id": "FBO2xEk8DeUG"
      },
      "execution_count": null,
      "outputs": []
    },
    {
      "cell_type": "code",
      "source": [
        "## Exercise 2\n",
        "# This creates a device with three wires on which PennyLane can run computations\n",
        "dev = qml.device(\"default.qubit\", wires=3)\n",
        "\n",
        "\n",
        "def my_circuit(theta, phi, omega):\n",
        "\n",
        "    ##################\n",
        "    # YOUR CODE HERE #\n",
        "    ##################\n",
        "    qml.RX(theta, wires=0)\n",
        "    qml.RY(phi, wires=1)\n",
        "    qml.RZ(omega, wires=2)\n",
        "    qml.CNOT(wires=[0, 1])\n",
        "    qml.CNOT(wires=[1, 2])\n",
        "    qml.CNOT(wires=[2, 0])\n",
        "\n",
        "    # IMPLEMENT THE CIRCUIT BY ADDING THE GATES\n",
        "\n",
        "    # Here are two examples, so you can see the format:\n",
        "    # qml.CNOT(wires=[0, 1])\n",
        "    # qml.RX(theta, wires=0)\n",
        "\n",
        "    return qml.probs(wires=[0, 1, 2])\n",
        "\n",
        "\n",
        "# This creates a QNode, binding the function and device\n",
        "my_qnode = qml.QNode(my_circuit, dev)\n",
        "\n",
        "# We set up some values for the input parameters\n",
        "theta, phi, omega = 0.1, 0.2, 0.3\n",
        "\n",
        "# Now we can execute the QNode by calling it like we would a regular function\n",
        "my_qnode(theta, phi, omega)\n"
      ],
      "metadata": {
        "id": "ip515zAnFjG_"
      },
      "execution_count": null,
      "outputs": []
    },
    {
      "cell_type": "code",
      "source": [
        "#Unitary Functions\n",
        "#qml.QubitUnitary(U, wires=wire)\n",
        "dev = qml.device(\"default.qubit\", wires=1)\n",
        "\n",
        "U = np.array([[1, 1], [1, -1]]) / np.sqrt(2)\n",
        "\n",
        "\n",
        "@qml.qnode(dev)\n",
        "def apply_u():\n",
        "\n",
        "    ##################\n",
        "    # YOUR CODE HERE #\n",
        "    ##################\n",
        "\n",
        "    # USE QubitUnitary TO APPLY U TO THE QUBIT\n",
        "    qml.QubitUnitary(U, wires=0)\n",
        "\n",
        "    # Return the state\n",
        "    return qml.state()\n"
      ],
      "metadata": {
        "id": "MVReUHrIKf6U"
      },
      "execution_count": null,
      "outputs": []
    }
  ]
}