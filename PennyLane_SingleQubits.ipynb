{
  "nbformat": 4,
  "nbformat_minor": 0,
  "metadata": {
    "colab": {
      "provenance": [],
      "authorship_tag": "ABX9TyMXxPlLJGRna/+HHkB1WuaS"
    },
    "kernelspec": {
      "name": "python3",
      "display_name": "Python 3"
    },
    "language_info": {
      "name": "python"
    }
  },
  "cells": [
    {
      "cell_type": "markdown",
      "source": [
        "2 ways to initialize a QNode"
      ],
      "metadata": {
        "id": "6X_MVKtXz9f2"
      }
    },
    {
      "cell_type": "code",
      "execution_count": null,
      "metadata": {
        "id": "DWzCanNkfzSb"
      },
      "outputs": [],
      "source": [
        "#1\n",
        "dev = qml.device('default.qubit, wires = [0,1])\n",
        "\n",
        "def my_first_circuit(theta):\n",
        "\n",
        "    qml.Hadamard(wires = 0)\n",
        "    qml.CNOT(wires = [0,1])\n",
        "    qml.RZ(theta, wires = 0)\n",
        "\n",
        "    return qml.probs(wires = [0,1])\n",
        "\n",
        "my_first_QNode = qml.QNode(my_first_circuit, dev)\n",
        "\n",
        "#2\n",
        "dev = qml.device('default.qubit, wires = [0,1])\n",
        "\n",
        "@qml.qnode(dev)\n",
        "def my_first_circuit(theta):\n",
        "\n",
        "    qml.Hadamard(wires = 0)\n",
        "    qml.CNOT(wires = [0,1])\n",
        "    qml.RZ(theta, wires = 0)\n",
        "\n",
        "    return qml.probs(wires = [0,1])"
      ]
    },
    {
      "cell_type": "markdown",
      "source": [
        "Applying a Pauli X to the wires\n"
      ],
      "metadata": {
        "id": "4k5eIU28VHds"
      }
    },
    {
      "cell_type": "code",
      "source": [
        "dev = qml.device(\"default.qubit\", wires=1)\n",
        "\n",
        "U = np.array([[1, 1], [1, -1]]) / np.sqrt(2)\n",
        "\n",
        "\n",
        "@qml.qnode(dev)\n",
        "def varied_initial_state(state):\n",
        "    \"\"\"Complete the function such that we can apply the operation U to\n",
        "    either |0> or |1> depending on the input argument flag.\n",
        "\n",
        "    Args:\n",
        "        state (int): Either 0 or 1. If 1, prepare the qubit in state |1>,\n",
        "            otherwise, leave it in state 0.\n",
        "\n",
        "    Returns:\n",
        "        np.array[complex]: The state of the qubit after the operations.\n",
        "    \"\"\"\n",
        "    ##################\n",
        "    # YOUR CODE HERE #\n",
        "    ##################\n",
        "\n",
        "    # KEEP THE QUBIT IN |0> OR CHANGE IT TO |1> DEPENDING ON THE state PARAMETER\n",
        "    if state ==1 :\n",
        "        qml.PauliX(wires=0)\n",
        "    # APPLY U TO THE STATE\n",
        "    qml.QubitUnitary(U, wires=0)\n",
        "\n",
        "    return qml.state()\n"
      ],
      "metadata": {
        "id": "-7qyD-aOVGTK"
      },
      "execution_count": null,
      "outputs": []
    },
    {
      "cell_type": "markdown",
      "source": [
        "Hadamard gates"
      ],
      "metadata": {
        "id": "NnBRV4pobKx1"
      }
    },
    {
      "cell_type": "code",
      "source": [
        "dev = qml.device(\"default.qubit\", wires=1)\n",
        "\n",
        "\n",
        "@qml.qnode(dev)\n",
        "def apply_hadamard_to_state(state):\n",
        "    \"\"\"Complete the function such that we can apply the Hadamard to\n",
        "    either |0> or |1> depending on the input argument flag.\n",
        "\n",
        "    Args:\n",
        "        state (int): Either 0 or 1. If 1, prepare the qubit in state |1>,\n",
        "            otherwise, leave it in state 0.\n",
        "\n",
        "    Returns:\n",
        "        np.array[complex]: The state of the qubit after the operations.\n",
        "    \"\"\"\n",
        "    ##################\n",
        "    # YOUR CODE HERE #\n",
        "    ##################\n",
        "\n",
        "    # KEEP THE QUBIT IN |0> OR CHANGE IT TO |1> DEPENDING ON state\n",
        "    if state == 1:\n",
        "        qml.PauliX(wires = 0)\n",
        "    qml.Hadamard(wires= 0)\n",
        "\n",
        "    # APPLY THE HADAMARD\n",
        "\n",
        "    # RETURN THE STATE\n",
        "\n",
        "    return qml.state()\n",
        "\n",
        "\n",
        "print(apply_hadamard_to_state(0))\n",
        "print(apply_hadamard_to_state(1))\n"
      ],
      "metadata": {
        "id": "zAyc9SHKbcKm"
      },
      "execution_count": null,
      "outputs": []
    },
    {
      "cell_type": "markdown",
      "source": [
        "## QNodde with quantum circuits\n",
        "Now let's combine what we've just learned. Create a device with one qubit. Then, write a QNode (from scratch!) that applies the following circuit and returns the state.\n",
        "\n",
        "Determine its effect on the two basis states. What do you think this operation does?\n",
        "\n",
        "The signature of your function should be:\n",
        "\n",
        "def apply_hxh(state):\n",
        "    ...\n",
        "    return qml.state()\n",
        "\n",
        "where, as in the previous exercises, state is an integer that indicates which basis state to prepare."
      ],
      "metadata": {
        "id": "WXBrYnuRbPBL"
      }
    },
    {
      "cell_type": "code",
      "source": [
        "##################\n",
        "# YOUR CODE HERE #\n",
        "##################\n",
        "# CREATE A DEVICE\n",
        "dev = qml.device(\"default.qubit\", wires=1)\n",
        "\n",
        "@qml.qnode(dev)\n",
        "def apply_hxh(state):\n",
        "    # CREATE A QNODE CALLED apply_hxh THAT APPLIES THE CIRCUIT ABOVE\n",
        "    if state == 1:\n",
        "        qml.PauliX(wires = 0)\n",
        "    # Hadamard, PauliX, hadamard\n",
        "    qml.Hadamard(wires= 0)\n",
        "    qml.PauliX(wires = 0)\n",
        "    qml.Hadamard(wires= 0)\n",
        "    return qml.state()\n",
        "\n",
        "# Print your results\n",
        "print(apply_hxh(0))\n",
        "print(apply_hxh(1))"
      ],
      "metadata": {
        "id": "JWrcY2tGbtgA"
      },
      "execution_count": null,
      "outputs": []
    },
    {
      "cell_type": "markdown",
      "source": [
        "Phase based gates"
      ],
      "metadata": {
        "id": "6St4P0xm8iWY"
      }
    },
    {
      "cell_type": "code",
      "source": [
        "# Z gate\n",
        "dev = qml.device(\"default.qubit\", wires=1)\n",
        "\n",
        "\n",
        "@qml.qnode(dev)\n",
        "def apply_z_to_plus():\n",
        "    \"\"\"Write a circuit that applies PauliZ to the |+> state and returns\n",
        "    the state.\n",
        "\n",
        "    Returns:\n",
        "        np.array[complex]: The state of the qubit after the operations.\n",
        "    \"\"\"\n",
        "\n",
        "    ##################\n",
        "    # YOUR CODE HERE #\n",
        "    ##################\n",
        "\n",
        "    # CREATE THE |+> STATE\n",
        "    qml.Hadamard(wires = 0)\n",
        "    # APPLY PAULI Z\n",
        "    qml.PauliZ(wires = 0)\n",
        "    # RETURN THE STATE\n",
        "    return qml.state()\n",
        "\n",
        "\n",
        "print(apply_z_to_plus())\n",
        "\n",
        "# RZ gate turned to z gate. Just a Pi for phase flip\n",
        "dev = qml.device(\"default.qubit\", wires=1)\n",
        "\n",
        "\n",
        "@qml.qnode(dev)\n",
        "def fake_z():\n",
        "    \"\"\"Use RZ to produce the same action as Pauli Z on the |+> state.\n",
        "\n",
        "    Returns:\n",
        "        np.array[complex]: The state of the qubit after the operations.\n",
        "    \"\"\"\n",
        "\n",
        "    ##################\n",
        "    # YOUR CODE HERE #\n",
        "    ##################\n",
        "\n",
        "    # CREATE THE |+> STATE\n",
        "    qml.Hadamard(wires = 0)\n",
        "    # APPLY RZ\n",
        "    qml.RZ(np.pi, wires = 0)\n",
        "    # RETURN THE STATE\n",
        "    return qml.state()\n",
        "\n"
      ],
      "metadata": {
        "id": "1cU_n6nW8g2k"
      },
      "execution_count": null,
      "outputs": []
    },
    {
      "cell_type": "code",
      "source": [],
      "metadata": {
        "id": "jbcCytK9Db3X"
      },
      "execution_count": null,
      "outputs": []
    },
    {
      "cell_type": "code",
      "source": [
        "# RX and RY. Looking at how amplitudes affect it and plotting the\n",
        "dev = qml.device(\"default.qubit\", wires=1)\n",
        "\n",
        "\n",
        "@qml.qnode(dev)\n",
        "def apply_ry(theta, state):\n",
        "    \"\"\"Apply an RY gate with an angle of theta to a particular basis state.\n",
        "\n",
        "    Args:\n",
        "        theta (float): A rotation angle.\n",
        "        state (int): Either 0 or 1. If 1, initialize the qubit to state |1>\n",
        "            before applying other operations.\n",
        "\n",
        "    Returns:\n",
        "        np.array[complex]: The state of the qubit after the operations.\n",
        "    \"\"\"\n",
        "    if state == 1:\n",
        "        qml.PauliX(wires=0)\n",
        "\n",
        "    ##################\n",
        "    # YOUR CODE HERE #\n",
        "    ##################\n",
        "\n",
        "    # APPLY RY(theta) AND RETURN THE STATE\n",
        "    qml.RY(theta, wires = 0)\n",
        "\n",
        "    return qml.state()\n",
        "\n",
        "\n",
        "# Code for plotting\n",
        "angles = np.linspace(0, 4 * np.pi, 200)\n",
        "output_states = np.array([apply_ry(t, 0) for t in angles])\n",
        "\n",
        "plot = plotter(angles, output_states)\n"
      ],
      "metadata": {
        "id": "a7oa8rw0DbjI"
      },
      "execution_count": null,
      "outputs": []
    }
  ]
}